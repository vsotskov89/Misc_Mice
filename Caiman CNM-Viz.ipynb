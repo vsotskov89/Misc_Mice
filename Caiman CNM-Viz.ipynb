{
 "cells": [
  {
   "cell_type": "markdown",
   "id": "18f33167-09ba-49d0-a657-9f465b9efb82",
   "metadata": {},
   "source": [
    "# Interactive vizualization of CaImAn `cnm.estmates` data"
   ]
  },
  {
   "cell_type": "code",
   "execution_count": 1,
   "id": "a2352163-0270-4224-b450-9923e4e1850d",
   "metadata": {},
   "outputs": [],
   "source": [
    "import pickle\n",
    "import fastplotlib\n",
    "import lazyarray\n",
    "import mesmerize_core.arrays\n",
    "import numpy as np\n",
    "from skimage import io\n",
    "from functools import partial\n",
    "\n",
    "from fastplotlib import ImageWidget, Plot, GridPlot\n",
    "from fastplotlib.graphics.line_slider import LineSlider\n",
    "from ipywidgets import VBox, HBox, IntSlider, Layout, FloatRangeSlider\n",
    "\n",
    "from caiman.utils.visualization import get_contours as caiman_get_contours"
   ]
  },
  {
   "cell_type": "code",
   "execution_count": 2,
   "id": "f28fc04e-b10a-49f5-b9c5-324e0027e8ea",
   "metadata": {},
   "outputs": [],
   "source": [
    "with open(\"Nikitas_mice/CNM_07_CA1_FS_2022_03_01_17_38_07_NR.pickle\",\"rb\") as f:\n",
    "    cnm = pickle.load(f,)"
   ]
  },
  {
   "cell_type": "code",
   "execution_count": 3,
   "id": "6f99aa88-41f5-42f8-8ccb-8c0e144fb762",
   "metadata": {},
   "outputs": [],
   "source": [
    "def get_contours(cnm_object,kind=\"all\"):\n",
    "    contours = caiman_get_contours(cnm_object.A,dims=cnm_object.dims)\n",
    "    coordinates = list()\n",
    "    coms = list()\n",
    "\n",
    "    for k,contour in enumerate(contours):\n",
    "        if kind==\"good\":\n",
    "            if k in cnm_object.idx_components_bad:\n",
    "                continue\n",
    "        if kind==\"bad\":\n",
    "            if k in cnm_object.idx_components:\n",
    "                continue\n",
    "        coors = contour[\"coordinates\"]\n",
    "        coors = coors[~np.isnan(coors).any(axis=1)]\n",
    "        coordinates.append(coors)\n",
    "\n",
    "        com = coors.mean(axis=0)\n",
    "        coms.append(com)\n",
    "\n",
    "    return coordinates, coms"
   ]
  },
  {
   "cell_type": "code",
   "execution_count": 4,
   "id": "fa79ded0-1224-48e4-a20d-79723f8fd556",
   "metadata": {},
   "outputs": [],
   "source": [
    "# Raw movie\n",
    "raw = io.imread(\"mesmerize_root/Nikitas_mice/07_CA1_FS_2022_03_01_17_38_07_NR.tiff\")\n",
    "\n",
    "# Reconstructed movie\n",
    "rcm = mesmerize_core.arrays.LazyArrayRCM(cnm.A, cnm.C, cnm.dims)\n",
    "\n",
    "# Contours of spatial components (good)\n",
    "contours, coms = get_contours(cnm) \n",
    "contours_good, coms_good = get_contours(cnm,\"good\") # Only good contours\n",
    "\n",
    "\n",
    "# Temporal traces\n",
    "temporal = cnm.C\n",
    "temporal_good = cnm.C[cnm.idx_components]\n",
    "\n",
    "ixs_good = cnm.idx_components\n",
    "ixs_bad = cnm.idx_components_bad"
   ]
  },
  {
   "cell_type": "code",
   "execution_count": 5,
   "id": "c19dd954-b663-41ea-89e5-d6632f3a2e8e",
   "metadata": {},
   "outputs": [],
   "source": [
    "rand_colors = np.random.rand(len(contours_good), 4)  # [n_contours, RGBA]\n",
    "rand_colors[:, -1] = 1 # set alpha = 1"
   ]
  },
  {
   "cell_type": "code",
   "execution_count": 6,
   "id": "840d2d96-c830-4130-8757-8d99b9d9b458",
   "metadata": {},
   "outputs": [],
   "source": [
    "def euclidean(source, target, event, new_data):\n",
    "    \"\"\"maps click events to contour\"\"\"\n",
    "    # calculate coms of line collection\n",
    "    indices = np.array(event.pick_info[\"index\"])\n",
    "    print(event.pick_info)\n",
    "    coms = list()\n",
    "\n",
    "    for contour in target.graphics:\n",
    "        coors = contour.data()[~np.isnan(contour.data()).any(axis=1)]\n",
    "        com = coors.mean(axis=0)\n",
    "        coms.append(com)\n",
    "\n",
    "    # euclidean distance to find closest index of com \n",
    "    indices = np.append(indices, [0])\n",
    "    \n",
    "    ix = int(np.linalg.norm((coms - indices), axis=1).argsort()[0])\n",
    "    \n",
    "    target._set_feature(feature=\"colors\", new_data=new_data, indices=ix)\n",
    "    \n",
    "    return None"
   ]
  },
  {
   "cell_type": "markdown",
   "id": "97c87b38-e77e-4463-bcdb-92fc5a508371",
   "metadata": {},
   "source": [
    "## Full vizualization"
   ]
  },
  {
   "cell_type": "code",
   "execution_count": 14,
   "id": "a1772469-07c5-4c16-891b-3cf6ec00d1eb",
   "metadata": {},
   "outputs": [
    {
     "data": {
      "application/vnd.jupyter.widget-view+json": {
       "model_id": "972c1d1925f94e59be51919cf6f5b485",
       "version_major": 2,
       "version_minor": 0
      },
      "text/plain": [
       "RFBOutputContext()"
      ]
     },
     "metadata": {},
     "output_type": "display_data"
    },
    {
     "data": {
      "application/vnd.jupyter.widget-view+json": {
       "model_id": "9577b8d87712438aa099bac95c000f84",
       "version_major": 2,
       "version_minor": 0
      },
      "text/plain": [
       "RFBOutputContext()"
      ]
     },
     "metadata": {},
     "output_type": "display_data"
    },
    {
     "data": {
      "application/vnd.jupyter.widget-view+json": {
       "model_id": "a8cacc7d1ef64158927962e77a8b605d",
       "version_major": 2,
       "version_minor": 0
      },
      "text/plain": [
       "VBox(children=(JupyterWgpuCanvas(css_height='150px', css_width='1200px'), JupyterWgpuCanvas(css_height='600px'…"
      ]
     },
     "metadata": {},
     "output_type": "display_data"
    }
   ],
   "source": [
    "cnmf_grid = GridPlot((1, 2),controllers=\"sync\")\n",
    "cnmf_grid.canvas.set_logical_size(1200,600)\n",
    "\n",
    "\n",
    "raw_graphic = cnmf_grid[0,0].add_image(raw[0], cmap=\"binary_r\")\n",
    "rcm_graphic = cnmf_grid[0,1].add_image(rcm[0], cmap=\"magma\")\n",
    "\n",
    "rand_colors = np.random.rand(len(contours_good), 4)  # [n_contours, RGBA]\n",
    "rand_colors[:, -1] = 1 \n",
    "\n",
    "\n",
    "# add contours to both movie and rcm subplots\n",
    "contours_raw = cnmf_grid[0,0].add_line_collection(contours_good, colors=rand_colors)\n",
    "contours_rcm = cnmf_grid[0,1].add_line_collection(contours_good, colors=\"gray\", thickness=1.0)\n",
    "\n",
    "# --- Temporal stack\n",
    "\n",
    "# temporal_stack_plot = fastplotlib.Plot()\n",
    "# temporal_stack_graphic = temporal_stack_plot.add_line_stack(temporal_good, colors=rand_colors, thickness=1.0, separate=35)\n",
    "#temporal_stack_plot.canvas.set_logical_size(400,400)\n",
    "\n",
    "# --- Single temporal component\n",
    "temporal_single_plot = fastplotlib.Plot()\n",
    "temporal_single_graphic = temporal_single_plot.add_line_collection(temporal_good, colors=rand_colors) # Initially we display all temporal components\n",
    "temporal_single_plot.canvas.set_logical_size(1200,150)\n",
    "\n",
    "\n",
    "# Sliders:\n",
    "slider = IntSlider(min=0, max=raw.shape[0] - 1, value=0, step=1)\n",
    "clim_slider = FloatRangeSlider(min=rcm.min, max=rcm.max, step=0.1)\n",
    "_ls = LineSlider(x_pos=0, bounds=(temporal.min(), temporal.max()), slider=slider)\n",
    "#_ls2 = LineSlider(x_pos=0, bounds=(temporal.min(), temporal.max() + temporal_stack_plot.graphics[-1].position.y), slider=slider)\n",
    "temporal_single_plot.add_graphic(_ls)\n",
    "#temporal_stack_plot.add_graphic(_ls2)\n",
    "\n",
    "# Functions to update each frame\n",
    "def update_frame(change):\n",
    "    ix = change[\"new\"]\n",
    "    raw_graphic.data = raw[ix]\n",
    "    rcm_graphic.data = rcm[ix]\n",
    "\n",
    "def update_clims(change):\n",
    "    vmin, vmax = change[\"new\"]\n",
    "    rcm_graphic.vmax=vmax\n",
    "    rcm_graphic.vmin=vmin\n",
    "    \n",
    "slider.observe(update_frame, \"value\")\n",
    "clim_slider.observe(update_clims, \"value\")\n",
    "    \n",
    "    \n",
    "@temporal_single_plot.renderer.add_event_handler(\"resize\")\n",
    "def update_slider_width(*args):\n",
    "    width, h = temporal_single_plot.renderer.logical_size\n",
    "    slider.layout = Layout(width=f\"{width}px\")\n",
    "\n",
    "\n",
    "#VBox([temporal_single_plot.show(), HBox([cnmf_grid.show(),temporal_stack_plot.show()]) , slider,clim_slider])\n",
    "VBox([temporal_single_plot.show(),cnmf_grid.show(), slider, clim_slider])"
   ]
  },
  {
   "cell_type": "markdown",
   "id": "283bd3e0-59e9-4dd9-853d-c980ba4f205e",
   "metadata": {},
   "source": [
    "## Interactivity\n",
    "\n",
    "Evaluate afer the cell above"
   ]
  },
  {
   "cell_type": "code",
   "execution_count": 15,
   "id": "715277f4-f4f4-4f58-b7bb-e886f946c6be",
   "metadata": {},
   "outputs": [
    {
     "name": "stderr",
     "output_type": "stream",
     "text": [
      "/Users/artemkirsanov/opt/anaconda3/envs/caiman/lib/python3.10/site-packages/fastplotlib/graphics/features/_base.py:87: UserWarning: Event handler <bound method Interaction.event_handler of LineCollection @ 0x35fca1300\n",
      "Collection of <15> Graphics> is already registered.\n",
      "  warn(f\"Event handler {handler} is already registered.\")\n",
      "/Users/artemkirsanov/opt/anaconda3/envs/caiman/lib/python3.10/site-packages/fastplotlib/graphics/features/_base.py:87: UserWarning: Event handler <bound method Interaction.event_handler of LineCollection @ 0x35fca0700\n",
      "Collection of <15> Graphics> is already registered.\n",
      "  warn(f\"Event handler {handler} is already registered.\")\n"
     ]
    }
   ],
   "source": [
    "# so we can view them one by one, first hide all of them\n",
    "temporal_single_graphic[:].present = False\n",
    "\n",
    "# link image to contours\n",
    "raw_graphic.link(\n",
    "    \"click\",\n",
    "    target=contours_raw,\n",
    "    feature=\"colors\", \n",
    "    new_data=\"w\", \n",
    "    callback=euclidean \n",
    ")\n",
    "\n",
    "# link image to contours\n",
    "rcm_graphic.link(\n",
    "    \"click\",\n",
    "    target=contours_rcm,\n",
    "    feature=\"colors\", \n",
    "    new_data=\"w\", \n",
    "    callback=euclidean \n",
    ")\n",
    "\n",
    "# contours colors -> contor thickness\n",
    "contours_raw.link(\"colors\", target=contours_raw, feature=\"thickness\", new_data=2.)\n",
    "contours_rcm.link(\"colors\", target=contours_rcm, feature=\"thickness\", new_data=2.)\n",
    "\n",
    "# contours_movie <-> contours_rcm\n",
    "contours_rcm.link(\"colors\", target=contours_raw, feature=\"colors\", new_data=\"w\", bidirectional=True)\n",
    "\n",
    "# # temporal stack events\n",
    "# temporal_stack_graphic.link(\"click\", target=temporal_stack_graphic, feature=\"colors\", new_data=\"w\")\n",
    "# temporal_stack_graphic.link(\"colors\", target=temporal_stack_graphic, feature=\"thickness\", new_data=4)\n",
    "\n",
    "# contours <-> temporal stack\n",
    "contours_raw.link(\"colors\", target=temporal_single_graphic, feature=\"present\", new_data=True)\n",
    "\n",
    "# temporal stack -> temporal single\n",
    "#temporal_stack_graphic.link(\"colors\", target=temporal_single_graphic, feature=\"present\", new_data=True)\n",
    "\n",
    "# autoscale temporal plot to the current temporal component\n",
    "temporal_single_graphic[:].present.add_event_handler(temporal_single_plot.auto_scale)"
   ]
  },
  {
   "cell_type": "code",
   "execution_count": null,
   "id": "d85fed54-0d09-48ee-9c1c-1eb97e310324",
   "metadata": {},
   "outputs": [],
   "source": []
  }
 ],
 "metadata": {
  "kernelspec": {
   "display_name": "Python 3 (ipykernel)",
   "language": "python",
   "name": "python3"
  },
  "language_info": {
   "codemirror_mode": {
    "name": "ipython",
    "version": 3
   },
   "file_extension": ".py",
   "mimetype": "text/x-python",
   "name": "python",
   "nbconvert_exporter": "python",
   "pygments_lexer": "ipython3",
   "version": "3.10.8"
  }
 },
 "nbformat": 4,
 "nbformat_minor": 5
}
