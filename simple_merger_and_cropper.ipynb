{
 "cells": [
  {
   "cell_type": "markdown",
   "metadata": {},
   "source": [
    "This thing is a cropper of a neural activity movies. These huge output tiffs are a whole day (one of three). I think it's better to feed them to the Caiman fitter directly..\n",
    "You can pre-stabilize the if you want with a special notebook"
   ]
  },
  {
   "cell_type": "code",
   "execution_count": 1,
   "metadata": {},
   "outputs": [
    {
     "name": "stdout",
     "output_type": "stream",
     "text": [
      "Collecting opencv-python\n",
      "  Downloading opencv_python-4.2.0.32-cp37-cp37m-manylinux1_x86_64.whl (28.2 MB)\n",
      "\u001b[K     |████████████████████████████████| 28.2 MB 222 kB/s eta 0:00:01     |██████████████████████████████▊ | 27.1 MB 339 kB/s eta 0:00:04\n",
      "\u001b[?25hRequirement already satisfied: numpy>=1.14.5 in /home/mops/anaconda3/lib/python3.7/site-packages (from opencv-python) (1.18.1)\n",
      "Installing collected packages: opencv-python\n",
      "Successfully installed opencv-python-4.2.0.32\n"
     ]
    }
   ],
   "source": [
    "!pip install opencv-python\n",
    "\n",
    "import matplotlib.pyplot as plt\n",
    "import numpy as np\n",
    "import cv2"
   ]
  },
  {
   "cell_type": "code",
   "execution_count": 4,
   "metadata": {},
   "outputs": [],
   "source": [
    "from tifffile import imsave\n",
    "import numpy as np\n",
    "from skimage import io\n",
    "im_0 = io.imread('/home/aayzenberg/Documents/HOLY_TEST/CA1_22_HT3_0.tif')\n",
    "im_1 = io.imread('/home/aayzenberg/Documents/HOLY_TEST/CA1_22_HT3_1.tif')\n",
    "im_2 = io.imread('/home/aayzenberg/Documents/HOLY_TEST/CA1_22_HT3_2.tif')\n",
    "#im = io.imread('/home/mops/Documents/mouse_green_light.tif')\n",
    "\n",
    "# example of reading the videofiles\n",
    "# WARNING! I imported here unstabilized videos/ I highly recommend importing stbilized ones sometimes.."
   ]
  },
  {
   "cell_type": "code",
   "execution_count": 93,
   "metadata": {},
   "outputs": [],
   "source": [
    "im_0 = np.array([*im_0,*im_1,*im_2,*im_3])\n",
    "\n",
    "#merged them all just like a numpy table"
   ]
  },
  {
   "cell_type": "code",
   "execution_count": 17,
   "metadata": {},
   "outputs": [
    {
     "name": "stdout",
     "output_type": "stream",
     "text": [
      "959\n",
      "960\n",
      "961\n",
      "962\n",
      "963\n",
      "964\n",
      "965\n",
      "966\n",
      "967\n",
      "968\n",
      "969\n",
      "1019\n",
      "1020\n",
      "1021\n",
      "1022\n",
      "1023\n",
      "1024\n",
      "1025\n",
      "1026\n",
      "1027\n",
      "1028\n",
      "1029\n",
      "1030\n"
     ]
    }
   ],
   "source": [
    "for i in range(len(im_0)):\n",
    "    if im1[i][300][400]<300: #just a random coordinate.. when the screen is black they are all ther same colour\n",
    "        print(i)\n",
    "    else:\n",
    "        i+=1\n",
    "# this thing is important\n",
    "# it allows to find all the blinking frames (beginning and the ending of the experiment)\n",
    "\n",
    "# according to this output you have to cut the merged video numpy file: \n",
    "# range: {the one above the highest small number frame (should be around 1000), \n",
    "# the one below the lowest high number frame (should be around 10000) }"
   ]
  },
  {
   "cell_type": "code",
   "execution_count": 5,
   "metadata": {},
   "outputs": [
    {
     "data": {
      "text/plain": [
       "(1080, 1920, 3)"
      ]
     },
     "execution_count": 5,
     "metadata": {},
     "output_type": "execute_result"
    }
   ],
   "source": [
    "im.shape\n",
    "\n",
    "# lets find out it's shape now"
   ]
  },
  {
   "cell_type": "code",
   "execution_count": null,
   "metadata": {},
   "outputs": [],
   "source": []
  },
  {
   "cell_type": "code",
   "execution_count": 87,
   "metadata": {},
   "outputs": [],
   "source": [
    "#MODIFY WITH YOUR NUMBERS !!!!\n",
    "\n",
    "im_0 = im_0[ {put you beginning and ending frame} , 0:im_1.shape[1]-120, 150:im_1.shape[2]-150]\n",
    "\n",
    "# we cutted it to be able to work with this video. the second and third coordinate were obtained experimentally.\n",
    "# they basically work for my cases, but you are free to modify them. But chooose a short part of aa video. \n",
    "# Like 100 frames would work well ..."
   ]
  },
  {
   "cell_type": "code",
   "execution_count": 98,
   "metadata": {},
   "outputs": [
    {
     "data": {
      "text/plain": [
       "(16535, 420, 420)"
      ]
     },
     "execution_count": 98,
     "metadata": {},
     "output_type": "execute_result"
    }
   ],
   "source": [
    "im_0.shape\n",
    "\n",
    "# that's better"
   ]
  },
  {
   "cell_type": "code",
   "execution_count": 100,
   "metadata": {
    "scrolled": true
   },
   "outputs": [],
   "source": [
    "cm.movie(im_0).save('unstabilized_HT3_IMPORTANT.tif')\n",
    "\n",
    "# seving huuuuge tifff file. Remember. it's one experiment. Only one of the (three) days."
   ]
  },
  {
   "cell_type": "markdown",
   "metadata": {
    "jupyter": {
     "outputs_hidden": true
    }
   },
   "source": [
    "import imageio\n",
    "sname = 'unstabilized_HT2_temp!' + '.avi'\n",
    "imageio.mimwrite(sname, im_temp, fps = 30)\n",
    "\n",
    "# just to look at it and send to your buddies. It shouldn't take load to save this movie.."
   ]
  }
 ],
 "metadata": {
  "kernelspec": {
   "display_name": "Python 3",
   "language": "python",
   "name": "python3"
  },
  "language_info": {
   "codemirror_mode": {
    "name": "ipython",
    "version": 3
   },
   "file_extension": ".py",
   "mimetype": "text/x-python",
   "name": "python",
   "nbconvert_exporter": "python",
   "pygments_lexer": "ipython3",
   "version": "3.7.4"
  }
 },
 "nbformat": 4,
 "nbformat_minor": 4
}
